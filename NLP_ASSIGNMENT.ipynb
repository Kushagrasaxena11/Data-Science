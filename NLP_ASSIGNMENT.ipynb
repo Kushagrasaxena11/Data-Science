{
  "nbformat": 4,
  "nbformat_minor": 0,
  "metadata": {
    "colab": {
      "provenance": []
    },
    "kernelspec": {
      "name": "python3",
      "display_name": "Python 3"
    },
    "language_info": {
      "name": "python"
    }
  },
  "cells": [
    {
      "cell_type": "code",
      "execution_count": 1,
      "metadata": {
        "colab": {
          "base_uri": "https://localhost:8080/"
        },
        "id": "xX3kbmuxAB8S",
        "outputId": "0d1ef487-31ea-489d-e5bf-442de04f17df"
      },
      "outputs": [
        {
          "output_type": "stream",
          "name": "stdout",
          "text": [
            "Requirement already satisfied: pandas in /usr/local/lib/python3.10/dist-packages (1.5.3)\n",
            "Requirement already satisfied: nltk in /usr/local/lib/python3.10/dist-packages (3.8.1)\n",
            "Requirement already satisfied: spacy in /usr/local/lib/python3.10/dist-packages (3.6.1)\n",
            "Requirement already satisfied: gensim in /usr/local/lib/python3.10/dist-packages (4.3.2)\n",
            "Requirement already satisfied: scikit-learn in /usr/local/lib/python3.10/dist-packages (1.2.2)\n",
            "Requirement already satisfied: python-dateutil>=2.8.1 in /usr/local/lib/python3.10/dist-packages (from pandas) (2.8.2)\n",
            "Requirement already satisfied: pytz>=2020.1 in /usr/local/lib/python3.10/dist-packages (from pandas) (2023.3.post1)\n",
            "Requirement already satisfied: numpy>=1.21.0 in /usr/local/lib/python3.10/dist-packages (from pandas) (1.23.5)\n",
            "Requirement already satisfied: click in /usr/local/lib/python3.10/dist-packages (from nltk) (8.1.7)\n",
            "Requirement already satisfied: joblib in /usr/local/lib/python3.10/dist-packages (from nltk) (1.3.2)\n",
            "Requirement already satisfied: regex>=2021.8.3 in /usr/local/lib/python3.10/dist-packages (from nltk) (2023.6.3)\n",
            "Requirement already satisfied: tqdm in /usr/local/lib/python3.10/dist-packages (from nltk) (4.66.1)\n",
            "Requirement already satisfied: spacy-legacy<3.1.0,>=3.0.11 in /usr/local/lib/python3.10/dist-packages (from spacy) (3.0.12)\n",
            "Requirement already satisfied: spacy-loggers<2.0.0,>=1.0.0 in /usr/local/lib/python3.10/dist-packages (from spacy) (1.0.5)\n",
            "Requirement already satisfied: murmurhash<1.1.0,>=0.28.0 in /usr/local/lib/python3.10/dist-packages (from spacy) (1.0.10)\n",
            "Requirement already satisfied: cymem<2.1.0,>=2.0.2 in /usr/local/lib/python3.10/dist-packages (from spacy) (2.0.8)\n",
            "Requirement already satisfied: preshed<3.1.0,>=3.0.2 in /usr/local/lib/python3.10/dist-packages (from spacy) (3.0.9)\n",
            "Requirement already satisfied: thinc<8.2.0,>=8.1.8 in /usr/local/lib/python3.10/dist-packages (from spacy) (8.1.12)\n",
            "Requirement already satisfied: wasabi<1.2.0,>=0.9.1 in /usr/local/lib/python3.10/dist-packages (from spacy) (1.1.2)\n",
            "Requirement already satisfied: srsly<3.0.0,>=2.4.3 in /usr/local/lib/python3.10/dist-packages (from spacy) (2.4.8)\n",
            "Requirement already satisfied: catalogue<2.1.0,>=2.0.6 in /usr/local/lib/python3.10/dist-packages (from spacy) (2.0.10)\n",
            "Requirement already satisfied: typer<0.10.0,>=0.3.0 in /usr/local/lib/python3.10/dist-packages (from spacy) (0.9.0)\n",
            "Requirement already satisfied: pathy>=0.10.0 in /usr/local/lib/python3.10/dist-packages (from spacy) (0.10.3)\n",
            "Requirement already satisfied: smart-open<7.0.0,>=5.2.1 in /usr/local/lib/python3.10/dist-packages (from spacy) (6.4.0)\n",
            "Requirement already satisfied: requests<3.0.0,>=2.13.0 in /usr/local/lib/python3.10/dist-packages (from spacy) (2.31.0)\n",
            "Requirement already satisfied: pydantic!=1.8,!=1.8.1,<3.0.0,>=1.7.4 in /usr/local/lib/python3.10/dist-packages (from spacy) (1.10.13)\n",
            "Requirement already satisfied: jinja2 in /usr/local/lib/python3.10/dist-packages (from spacy) (3.1.2)\n",
            "Requirement already satisfied: setuptools in /usr/local/lib/python3.10/dist-packages (from spacy) (67.7.2)\n",
            "Requirement already satisfied: packaging>=20.0 in /usr/local/lib/python3.10/dist-packages (from spacy) (23.2)\n",
            "Requirement already satisfied: langcodes<4.0.0,>=3.2.0 in /usr/local/lib/python3.10/dist-packages (from spacy) (3.3.0)\n",
            "Requirement already satisfied: scipy>=1.7.0 in /usr/local/lib/python3.10/dist-packages (from gensim) (1.11.3)\n",
            "Requirement already satisfied: threadpoolctl>=2.0.0 in /usr/local/lib/python3.10/dist-packages (from scikit-learn) (3.2.0)\n",
            "Requirement already satisfied: typing-extensions>=4.2.0 in /usr/local/lib/python3.10/dist-packages (from pydantic!=1.8,!=1.8.1,<3.0.0,>=1.7.4->spacy) (4.5.0)\n",
            "Requirement already satisfied: six>=1.5 in /usr/local/lib/python3.10/dist-packages (from python-dateutil>=2.8.1->pandas) (1.16.0)\n",
            "Requirement already satisfied: charset-normalizer<4,>=2 in /usr/local/lib/python3.10/dist-packages (from requests<3.0.0,>=2.13.0->spacy) (3.3.2)\n",
            "Requirement already satisfied: idna<4,>=2.5 in /usr/local/lib/python3.10/dist-packages (from requests<3.0.0,>=2.13.0->spacy) (3.4)\n",
            "Requirement already satisfied: urllib3<3,>=1.21.1 in /usr/local/lib/python3.10/dist-packages (from requests<3.0.0,>=2.13.0->spacy) (2.0.7)\n",
            "Requirement already satisfied: certifi>=2017.4.17 in /usr/local/lib/python3.10/dist-packages (from requests<3.0.0,>=2.13.0->spacy) (2023.7.22)\n",
            "Requirement already satisfied: blis<0.8.0,>=0.7.8 in /usr/local/lib/python3.10/dist-packages (from thinc<8.2.0,>=8.1.8->spacy) (0.7.11)\n",
            "Requirement already satisfied: confection<1.0.0,>=0.0.1 in /usr/local/lib/python3.10/dist-packages (from thinc<8.2.0,>=8.1.8->spacy) (0.1.3)\n",
            "Requirement already satisfied: MarkupSafe>=2.0 in /usr/local/lib/python3.10/dist-packages (from jinja2->spacy) (2.1.3)\n"
          ]
        }
      ],
      "source": [
        "pip install pandas nltk spacy gensim scikit-learn\n"
      ]
    },
    {
      "cell_type": "code",
      "source": [
        "import pandas as pd\n",
        "import nltk\n",
        "from nltk.tokenize import word_tokenize, sent_tokenize\n",
        "from nltk.stem import PorterStemmer, WordNetLemmatizer\n",
        "import spacy\n",
        "from gensim.models import Word2Vec\n",
        "from sklearn.feature_extraction.text import TfidfVectorizer\n"
      ],
      "metadata": {
        "id": "XRBpeLmFADlu"
      },
      "execution_count": 2,
      "outputs": []
    },
    {
      "cell_type": "code",
      "source": [
        "# Assuming BBC_DATA.csv is in the same directory\n",
        "dataset = pd.read_csv('BBC_DATA.csv')\n"
      ],
      "metadata": {
        "id": "xlwEkjAoAUgV"
      },
      "execution_count": 5,
      "outputs": []
    },
    {
      "cell_type": "code",
      "source": [
        "dataset.head()\n"
      ],
      "metadata": {
        "colab": {
          "base_uri": "https://localhost:8080/",
          "height": 206
        },
        "id": "MJY7pODSA-Se",
        "outputId": "8e95ded2-fbc0-42c7-db40-04540d7fae53"
      },
      "execution_count": 30,
      "outputs": [
        {
          "output_type": "execute_result",
          "data": {
            "text/plain": [
              "   ArticleId                                               Text  Category\n",
              "0       1833  worldcom ex-boss launches defence lawyers defe...  business\n",
              "1        154  german business confidence slides german busin...  business\n",
              "2       1101  bbc poll indicates economic gloom citizens in ...  business\n",
              "3       1976  lifestyle  governs mobile choice  faster  bett...      tech\n",
              "4        917  enron bosses in $168m payout eighteen former e...  business"
            ],
            "text/html": [
              "\n",
              "  <div id=\"df-b49bf8a2-f7d8-4610-89dc-c24a08d1953c\" class=\"colab-df-container\">\n",
              "    <div>\n",
              "<style scoped>\n",
              "    .dataframe tbody tr th:only-of-type {\n",
              "        vertical-align: middle;\n",
              "    }\n",
              "\n",
              "    .dataframe tbody tr th {\n",
              "        vertical-align: top;\n",
              "    }\n",
              "\n",
              "    .dataframe thead th {\n",
              "        text-align: right;\n",
              "    }\n",
              "</style>\n",
              "<table border=\"1\" class=\"dataframe\">\n",
              "  <thead>\n",
              "    <tr style=\"text-align: right;\">\n",
              "      <th></th>\n",
              "      <th>ArticleId</th>\n",
              "      <th>Text</th>\n",
              "      <th>Category</th>\n",
              "    </tr>\n",
              "  </thead>\n",
              "  <tbody>\n",
              "    <tr>\n",
              "      <th>0</th>\n",
              "      <td>1833</td>\n",
              "      <td>worldcom ex-boss launches defence lawyers defe...</td>\n",
              "      <td>business</td>\n",
              "    </tr>\n",
              "    <tr>\n",
              "      <th>1</th>\n",
              "      <td>154</td>\n",
              "      <td>german business confidence slides german busin...</td>\n",
              "      <td>business</td>\n",
              "    </tr>\n",
              "    <tr>\n",
              "      <th>2</th>\n",
              "      <td>1101</td>\n",
              "      <td>bbc poll indicates economic gloom citizens in ...</td>\n",
              "      <td>business</td>\n",
              "    </tr>\n",
              "    <tr>\n",
              "      <th>3</th>\n",
              "      <td>1976</td>\n",
              "      <td>lifestyle  governs mobile choice  faster  bett...</td>\n",
              "      <td>tech</td>\n",
              "    </tr>\n",
              "    <tr>\n",
              "      <th>4</th>\n",
              "      <td>917</td>\n",
              "      <td>enron bosses in $168m payout eighteen former e...</td>\n",
              "      <td>business</td>\n",
              "    </tr>\n",
              "  </tbody>\n",
              "</table>\n",
              "</div>\n",
              "    <div class=\"colab-df-buttons\">\n",
              "\n",
              "  <div class=\"colab-df-container\">\n",
              "    <button class=\"colab-df-convert\" onclick=\"convertToInteractive('df-b49bf8a2-f7d8-4610-89dc-c24a08d1953c')\"\n",
              "            title=\"Convert this dataframe to an interactive table.\"\n",
              "            style=\"display:none;\">\n",
              "\n",
              "  <svg xmlns=\"http://www.w3.org/2000/svg\" height=\"24px\" viewBox=\"0 -960 960 960\">\n",
              "    <path d=\"M120-120v-720h720v720H120Zm60-500h600v-160H180v160Zm220 220h160v-160H400v160Zm0 220h160v-160H400v160ZM180-400h160v-160H180v160Zm440 0h160v-160H620v160ZM180-180h160v-160H180v160Zm440 0h160v-160H620v160Z\"/>\n",
              "  </svg>\n",
              "    </button>\n",
              "\n",
              "  <style>\n",
              "    .colab-df-container {\n",
              "      display:flex;\n",
              "      gap: 12px;\n",
              "    }\n",
              "\n",
              "    .colab-df-convert {\n",
              "      background-color: #E8F0FE;\n",
              "      border: none;\n",
              "      border-radius: 50%;\n",
              "      cursor: pointer;\n",
              "      display: none;\n",
              "      fill: #1967D2;\n",
              "      height: 32px;\n",
              "      padding: 0 0 0 0;\n",
              "      width: 32px;\n",
              "    }\n",
              "\n",
              "    .colab-df-convert:hover {\n",
              "      background-color: #E2EBFA;\n",
              "      box-shadow: 0px 1px 2px rgba(60, 64, 67, 0.3), 0px 1px 3px 1px rgba(60, 64, 67, 0.15);\n",
              "      fill: #174EA6;\n",
              "    }\n",
              "\n",
              "    .colab-df-buttons div {\n",
              "      margin-bottom: 4px;\n",
              "    }\n",
              "\n",
              "    [theme=dark] .colab-df-convert {\n",
              "      background-color: #3B4455;\n",
              "      fill: #D2E3FC;\n",
              "    }\n",
              "\n",
              "    [theme=dark] .colab-df-convert:hover {\n",
              "      background-color: #434B5C;\n",
              "      box-shadow: 0px 1px 3px 1px rgba(0, 0, 0, 0.15);\n",
              "      filter: drop-shadow(0px 1px 2px rgba(0, 0, 0, 0.3));\n",
              "      fill: #FFFFFF;\n",
              "    }\n",
              "  </style>\n",
              "\n",
              "    <script>\n",
              "      const buttonEl =\n",
              "        document.querySelector('#df-b49bf8a2-f7d8-4610-89dc-c24a08d1953c button.colab-df-convert');\n",
              "      buttonEl.style.display =\n",
              "        google.colab.kernel.accessAllowed ? 'block' : 'none';\n",
              "\n",
              "      async function convertToInteractive(key) {\n",
              "        const element = document.querySelector('#df-b49bf8a2-f7d8-4610-89dc-c24a08d1953c');\n",
              "        const dataTable =\n",
              "          await google.colab.kernel.invokeFunction('convertToInteractive',\n",
              "                                                    [key], {});\n",
              "        if (!dataTable) return;\n",
              "\n",
              "        const docLinkHtml = 'Like what you see? Visit the ' +\n",
              "          '<a target=\"_blank\" href=https://colab.research.google.com/notebooks/data_table.ipynb>data table notebook</a>'\n",
              "          + ' to learn more about interactive tables.';\n",
              "        element.innerHTML = '';\n",
              "        dataTable['output_type'] = 'display_data';\n",
              "        await google.colab.output.renderOutput(dataTable, element);\n",
              "        const docLink = document.createElement('div');\n",
              "        docLink.innerHTML = docLinkHtml;\n",
              "        element.appendChild(docLink);\n",
              "      }\n",
              "    </script>\n",
              "  </div>\n",
              "\n",
              "\n",
              "<div id=\"df-cdbd2bd1-34f0-430d-b9c8-d45f307133e7\">\n",
              "  <button class=\"colab-df-quickchart\" onclick=\"quickchart('df-cdbd2bd1-34f0-430d-b9c8-d45f307133e7')\"\n",
              "            title=\"Suggest charts\"\n",
              "            style=\"display:none;\">\n",
              "\n",
              "<svg xmlns=\"http://www.w3.org/2000/svg\" height=\"24px\"viewBox=\"0 0 24 24\"\n",
              "     width=\"24px\">\n",
              "    <g>\n",
              "        <path d=\"M19 3H5c-1.1 0-2 .9-2 2v14c0 1.1.9 2 2 2h14c1.1 0 2-.9 2-2V5c0-1.1-.9-2-2-2zM9 17H7v-7h2v7zm4 0h-2V7h2v10zm4 0h-2v-4h2v4z\"/>\n",
              "    </g>\n",
              "</svg>\n",
              "  </button>\n",
              "\n",
              "<style>\n",
              "  .colab-df-quickchart {\n",
              "      --bg-color: #E8F0FE;\n",
              "      --fill-color: #1967D2;\n",
              "      --hover-bg-color: #E2EBFA;\n",
              "      --hover-fill-color: #174EA6;\n",
              "      --disabled-fill-color: #AAA;\n",
              "      --disabled-bg-color: #DDD;\n",
              "  }\n",
              "\n",
              "  [theme=dark] .colab-df-quickchart {\n",
              "      --bg-color: #3B4455;\n",
              "      --fill-color: #D2E3FC;\n",
              "      --hover-bg-color: #434B5C;\n",
              "      --hover-fill-color: #FFFFFF;\n",
              "      --disabled-bg-color: #3B4455;\n",
              "      --disabled-fill-color: #666;\n",
              "  }\n",
              "\n",
              "  .colab-df-quickchart {\n",
              "    background-color: var(--bg-color);\n",
              "    border: none;\n",
              "    border-radius: 50%;\n",
              "    cursor: pointer;\n",
              "    display: none;\n",
              "    fill: var(--fill-color);\n",
              "    height: 32px;\n",
              "    padding: 0;\n",
              "    width: 32px;\n",
              "  }\n",
              "\n",
              "  .colab-df-quickchart:hover {\n",
              "    background-color: var(--hover-bg-color);\n",
              "    box-shadow: 0 1px 2px rgba(60, 64, 67, 0.3), 0 1px 3px 1px rgba(60, 64, 67, 0.15);\n",
              "    fill: var(--button-hover-fill-color);\n",
              "  }\n",
              "\n",
              "  .colab-df-quickchart-complete:disabled,\n",
              "  .colab-df-quickchart-complete:disabled:hover {\n",
              "    background-color: var(--disabled-bg-color);\n",
              "    fill: var(--disabled-fill-color);\n",
              "    box-shadow: none;\n",
              "  }\n",
              "\n",
              "  .colab-df-spinner {\n",
              "    border: 2px solid var(--fill-color);\n",
              "    border-color: transparent;\n",
              "    border-bottom-color: var(--fill-color);\n",
              "    animation:\n",
              "      spin 1s steps(1) infinite;\n",
              "  }\n",
              "\n",
              "  @keyframes spin {\n",
              "    0% {\n",
              "      border-color: transparent;\n",
              "      border-bottom-color: var(--fill-color);\n",
              "      border-left-color: var(--fill-color);\n",
              "    }\n",
              "    20% {\n",
              "      border-color: transparent;\n",
              "      border-left-color: var(--fill-color);\n",
              "      border-top-color: var(--fill-color);\n",
              "    }\n",
              "    30% {\n",
              "      border-color: transparent;\n",
              "      border-left-color: var(--fill-color);\n",
              "      border-top-color: var(--fill-color);\n",
              "      border-right-color: var(--fill-color);\n",
              "    }\n",
              "    40% {\n",
              "      border-color: transparent;\n",
              "      border-right-color: var(--fill-color);\n",
              "      border-top-color: var(--fill-color);\n",
              "    }\n",
              "    60% {\n",
              "      border-color: transparent;\n",
              "      border-right-color: var(--fill-color);\n",
              "    }\n",
              "    80% {\n",
              "      border-color: transparent;\n",
              "      border-right-color: var(--fill-color);\n",
              "      border-bottom-color: var(--fill-color);\n",
              "    }\n",
              "    90% {\n",
              "      border-color: transparent;\n",
              "      border-bottom-color: var(--fill-color);\n",
              "    }\n",
              "  }\n",
              "</style>\n",
              "\n",
              "  <script>\n",
              "    async function quickchart(key) {\n",
              "      const quickchartButtonEl =\n",
              "        document.querySelector('#' + key + ' button');\n",
              "      quickchartButtonEl.disabled = true;  // To prevent multiple clicks.\n",
              "      quickchartButtonEl.classList.add('colab-df-spinner');\n",
              "      try {\n",
              "        const charts = await google.colab.kernel.invokeFunction(\n",
              "            'suggestCharts', [key], {});\n",
              "      } catch (error) {\n",
              "        console.error('Error during call to suggestCharts:', error);\n",
              "      }\n",
              "      quickchartButtonEl.classList.remove('colab-df-spinner');\n",
              "      quickchartButtonEl.classList.add('colab-df-quickchart-complete');\n",
              "    }\n",
              "    (() => {\n",
              "      let quickchartButtonEl =\n",
              "        document.querySelector('#df-cdbd2bd1-34f0-430d-b9c8-d45f307133e7 button');\n",
              "      quickchartButtonEl.style.display =\n",
              "        google.colab.kernel.accessAllowed ? 'block' : 'none';\n",
              "    })();\n",
              "  </script>\n",
              "</div>\n",
              "    </div>\n",
              "  </div>\n"
            ]
          },
          "metadata": {},
          "execution_count": 30
        }
      ]
    },
    {
      "cell_type": "code",
      "source": [
        "import nltk\n",
        "nltk.download('punkt')"
      ],
      "metadata": {
        "colab": {
          "base_uri": "https://localhost:8080/"
        },
        "id": "N_1jGkMwCGzy",
        "outputId": "28c8e8ce-9da4-4401-a90d-eb5897fb4ef7"
      },
      "execution_count": 11,
      "outputs": [
        {
          "output_type": "stream",
          "name": "stderr",
          "text": [
            "[nltk_data] Downloading package punkt to /root/nltk_data...\n",
            "[nltk_data]   Unzipping tokenizers/punkt.zip.\n"
          ]
        },
        {
          "output_type": "execute_result",
          "data": {
            "text/plain": [
              "True"
            ]
          },
          "metadata": {},
          "execution_count": 11
        }
      ]
    },
    {
      "cell_type": "code",
      "source": [
        "sample_article = dataset['Text'].iloc[0]\n",
        "\n",
        "# Tokenization\n",
        "words = word_tokenize(sample_article)\n",
        "sentences = sent_tokenize(sample_article)\n"
      ],
      "metadata": {
        "id": "ilEVBeGvBqv0"
      },
      "execution_count": 12,
      "outputs": []
    },
    {
      "cell_type": "code",
      "source": [
        "print(words)\n",
        "print(sentences)"
      ],
      "metadata": {
        "colab": {
          "base_uri": "https://localhost:8080/"
        },
        "id": "X5ncfYSVCU86",
        "outputId": "c689e968-5f2e-4956-9109-cbc413beb7db"
      },
      "execution_count": 16,
      "outputs": [
        {
          "output_type": "stream",
          "name": "stdout",
          "text": [
            "['worldcom', 'ex-boss', 'launches', 'defence', 'lawyers', 'defending', 'former', 'worldcom', 'chief', 'bernie', 'ebbers', 'against', 'a', 'battery', 'of', 'fraud', 'charges', 'have', 'called', 'a', 'company', 'whistleblower', 'as', 'their', 'first', 'witness', '.', 'cynthia', 'cooper', 'worldcom', 's', 'ex-head', 'of', 'internal', 'accounting', 'alerted', 'directors', 'to', 'irregular', 'accounting', 'practices', 'at', 'the', 'us', 'telecoms', 'giant', 'in', '2002.', 'her', 'warnings', 'led', 'to', 'the', 'collapse', 'of', 'the', 'firm', 'following', 'the', 'discovery', 'of', 'an', '$', '11bn', '(', '£5.7bn', ')', 'accounting', 'fraud', '.', 'mr', 'ebbers', 'has', 'pleaded', 'not', 'guilty', 'to', 'charges', 'of', 'fraud', 'and', 'conspiracy', '.', 'prosecution', 'lawyers', 'have', 'argued', 'that', 'mr', 'ebbers', 'orchestrated', 'a', 'series', 'of', 'accounting', 'tricks', 'at', 'worldcom', 'ordering', 'employees', 'to', 'hide', 'expenses', 'and', 'inflate', 'revenues', 'to', 'meet', 'wall', 'street', 'earnings', 'estimates', '.', 'but', 'ms', 'cooper', 'who', 'now', 'runs', 'her', 'own', 'consulting', 'business', 'told', 'a', 'jury', 'in', 'new', 'york', 'on', 'wednesday', 'that', 'external', 'auditors', 'arthur', 'andersen', 'had', 'approved', 'worldcom', 's', 'accounting', 'in', 'early', '2001', 'and', '2002.', 'she', 'said', 'andersen', 'had', 'given', 'a', 'green', 'light', 'to', 'the', 'procedures', 'and', 'practices', 'used', 'by', 'worldcom', '.', 'mr', 'ebber', 's', 'lawyers', 'have', 'said', 'he', 'was', 'unaware', 'of', 'the', 'fraud', 'arguing', 'that', 'auditors', 'did', 'not', 'alert', 'him', 'to', 'any', 'problems', '.', 'ms', 'cooper', 'also', 'said', 'that', 'during', 'shareholder', 'meetings', 'mr', 'ebbers', 'often', 'passed', 'over', 'technical', 'questions', 'to', 'the', 'company', 's', 'finance', 'chief', 'giving', 'only', 'brief', 'answers', 'himself', '.', 'the', 'prosecution', 's', 'star', 'witness', 'former', 'worldcom', 'financial', 'chief', 'scott', 'sullivan', 'has', 'said', 'that', 'mr', 'ebbers', 'ordered', 'accounting', 'adjustments', 'at', 'the', 'firm', 'telling', 'him', 'to', 'hit', 'our', 'books', '.', 'however', 'ms', 'cooper', 'said', 'mr', 'sullivan', 'had', 'not', 'mentioned', 'anything', 'uncomfortable', 'about', 'worldcom', 's', 'accounting', 'during', 'a', '2001', 'audit', 'committee', 'meeting', '.', 'mr', 'ebbers', 'could', 'face', 'a', 'jail', 'sentence', 'of', '85', 'years', 'if', 'convicted', 'of', 'all', 'the', 'charges', 'he', 'is', 'facing', '.', 'worldcom', 'emerged', 'from', 'bankruptcy', 'protection', 'in', '2004', 'and', 'is', 'now', 'known', 'as', 'mci', '.', 'last', 'week', 'mci', 'agreed', 'to', 'a', 'buyout', 'by', 'verizon', 'communications', 'in', 'a', 'deal', 'valued', 'at', '$', '6.75bn', '.']\n",
            "['worldcom ex-boss launches defence lawyers defending former worldcom chief bernie ebbers against a battery of fraud charges have called a company whistleblower as their first witness.', 'cynthia cooper  worldcom s ex-head of internal accounting  alerted directors to irregular accounting practices at the us telecoms giant in 2002. her warnings led to the collapse of the firm following the discovery of an $11bn (£5.7bn) accounting fraud.', 'mr ebbers has pleaded not guilty to charges of fraud and conspiracy.', 'prosecution lawyers have argued that mr ebbers orchestrated a series of accounting tricks at worldcom  ordering employees to hide expenses and inflate revenues to meet wall street earnings estimates.', 'but ms cooper  who now runs her own consulting business  told a jury in new york on wednesday that external auditors arthur andersen had approved worldcom s accounting in early 2001 and 2002. she said andersen had given a  green light  to the procedures and practices used by worldcom.', 'mr ebber s lawyers have said he was unaware of the fraud  arguing that auditors did not alert him to any problems.', 'ms cooper also said that during shareholder meetings mr ebbers often passed over technical questions to the company s finance chief  giving only  brief  answers himself.', 'the prosecution s star witness  former worldcom financial chief scott sullivan  has said that mr ebbers ordered accounting adjustments at the firm  telling him to  hit our books .', 'however  ms cooper said mr sullivan had not mentioned  anything uncomfortable  about worldcom s accounting during a 2001 audit committee meeting.', 'mr ebbers could face a jail sentence of 85 years if convicted of all the charges he is facing.', 'worldcom emerged from bankruptcy protection in 2004  and is now known as mci.', 'last week  mci agreed to a buyout by verizon communications in a deal valued at $6.75bn.']\n"
          ]
        }
      ]
    },
    {
      "cell_type": "code",
      "source": [
        "import nltk\n",
        "nltk.download('wordnet')"
      ],
      "metadata": {
        "colab": {
          "base_uri": "https://localhost:8080/"
        },
        "id": "l-fPWV5UCu85",
        "outputId": "e5f8bfd1-ff54-4250-8359-9be1980565d9"
      },
      "execution_count": 18,
      "outputs": [
        {
          "output_type": "stream",
          "name": "stderr",
          "text": [
            "[nltk_data] Downloading package wordnet to /root/nltk_data...\n"
          ]
        },
        {
          "output_type": "execute_result",
          "data": {
            "text/plain": [
              "True"
            ]
          },
          "metadata": {},
          "execution_count": 18
        }
      ]
    },
    {
      "cell_type": "code",
      "source": [
        "# Stemming\n",
        "porter_stemmer = PorterStemmer()\n",
        "stemmed_words = [porter_stemmer.stem(word) for word in words]\n",
        "\n",
        "# Lemmatization\n",
        "lemmatizer = WordNetLemmatizer()\n",
        "lemmatized_words = [lemmatizer.lemmatize(word) for word in words]\n"
      ],
      "metadata": {
        "id": "HE1GBRCzCYWU"
      },
      "execution_count": 19,
      "outputs": []
    },
    {
      "cell_type": "code",
      "source": [
        "print(stemmed_words)\n",
        "print(lemmatized_words)"
      ],
      "metadata": {
        "colab": {
          "base_uri": "https://localhost:8080/"
        },
        "id": "sE0TE4P0C2d-",
        "outputId": "b168c30d-19c0-4d0b-b621-078ab68e6288"
      },
      "execution_count": 21,
      "outputs": [
        {
          "output_type": "stream",
          "name": "stdout",
          "text": [
            "['worldcom', 'ex-boss', 'launch', 'defenc', 'lawyer', 'defend', 'former', 'worldcom', 'chief', 'berni', 'ebber', 'against', 'a', 'batteri', 'of', 'fraud', 'charg', 'have', 'call', 'a', 'compani', 'whistleblow', 'as', 'their', 'first', 'wit', '.', 'cynthia', 'cooper', 'worldcom', 's', 'ex-head', 'of', 'intern', 'account', 'alert', 'director', 'to', 'irregular', 'account', 'practic', 'at', 'the', 'us', 'telecom', 'giant', 'in', '2002.', 'her', 'warn', 'led', 'to', 'the', 'collaps', 'of', 'the', 'firm', 'follow', 'the', 'discoveri', 'of', 'an', '$', '11bn', '(', '£5.7bn', ')', 'account', 'fraud', '.', 'mr', 'ebber', 'ha', 'plead', 'not', 'guilti', 'to', 'charg', 'of', 'fraud', 'and', 'conspiraci', '.', 'prosecut', 'lawyer', 'have', 'argu', 'that', 'mr', 'ebber', 'orchestr', 'a', 'seri', 'of', 'account', 'trick', 'at', 'worldcom', 'order', 'employe', 'to', 'hide', 'expens', 'and', 'inflat', 'revenu', 'to', 'meet', 'wall', 'street', 'earn', 'estim', '.', 'but', 'ms', 'cooper', 'who', 'now', 'run', 'her', 'own', 'consult', 'busi', 'told', 'a', 'juri', 'in', 'new', 'york', 'on', 'wednesday', 'that', 'extern', 'auditor', 'arthur', 'andersen', 'had', 'approv', 'worldcom', 's', 'account', 'in', 'earli', '2001', 'and', '2002.', 'she', 'said', 'andersen', 'had', 'given', 'a', 'green', 'light', 'to', 'the', 'procedur', 'and', 'practic', 'use', 'by', 'worldcom', '.', 'mr', 'ebber', 's', 'lawyer', 'have', 'said', 'he', 'wa', 'unawar', 'of', 'the', 'fraud', 'argu', 'that', 'auditor', 'did', 'not', 'alert', 'him', 'to', 'ani', 'problem', '.', 'ms', 'cooper', 'also', 'said', 'that', 'dure', 'sharehold', 'meet', 'mr', 'ebber', 'often', 'pass', 'over', 'technic', 'question', 'to', 'the', 'compani', 's', 'financ', 'chief', 'give', 'onli', 'brief', 'answer', 'himself', '.', 'the', 'prosecut', 's', 'star', 'wit', 'former', 'worldcom', 'financi', 'chief', 'scott', 'sullivan', 'ha', 'said', 'that', 'mr', 'ebber', 'order', 'account', 'adjust', 'at', 'the', 'firm', 'tell', 'him', 'to', 'hit', 'our', 'book', '.', 'howev', 'ms', 'cooper', 'said', 'mr', 'sullivan', 'had', 'not', 'mention', 'anyth', 'uncomfort', 'about', 'worldcom', 's', 'account', 'dure', 'a', '2001', 'audit', 'committe', 'meet', '.', 'mr', 'ebber', 'could', 'face', 'a', 'jail', 'sentenc', 'of', '85', 'year', 'if', 'convict', 'of', 'all', 'the', 'charg', 'he', 'is', 'face', '.', 'worldcom', 'emerg', 'from', 'bankruptci', 'protect', 'in', '2004', 'and', 'is', 'now', 'known', 'as', 'mci', '.', 'last', 'week', 'mci', 'agre', 'to', 'a', 'buyout', 'by', 'verizon', 'commun', 'in', 'a', 'deal', 'valu', 'at', '$', '6.75bn', '.']\n",
            "['worldcom', 'ex-boss', 'launch', 'defence', 'lawyer', 'defending', 'former', 'worldcom', 'chief', 'bernie', 'ebbers', 'against', 'a', 'battery', 'of', 'fraud', 'charge', 'have', 'called', 'a', 'company', 'whistleblower', 'a', 'their', 'first', 'witness', '.', 'cynthia', 'cooper', 'worldcom', 's', 'ex-head', 'of', 'internal', 'accounting', 'alerted', 'director', 'to', 'irregular', 'accounting', 'practice', 'at', 'the', 'u', 'telecom', 'giant', 'in', '2002.', 'her', 'warning', 'led', 'to', 'the', 'collapse', 'of', 'the', 'firm', 'following', 'the', 'discovery', 'of', 'an', '$', '11bn', '(', '£5.7bn', ')', 'accounting', 'fraud', '.', 'mr', 'ebbers', 'ha', 'pleaded', 'not', 'guilty', 'to', 'charge', 'of', 'fraud', 'and', 'conspiracy', '.', 'prosecution', 'lawyer', 'have', 'argued', 'that', 'mr', 'ebbers', 'orchestrated', 'a', 'series', 'of', 'accounting', 'trick', 'at', 'worldcom', 'ordering', 'employee', 'to', 'hide', 'expense', 'and', 'inflate', 'revenue', 'to', 'meet', 'wall', 'street', 'earnings', 'estimate', '.', 'but', 'm', 'cooper', 'who', 'now', 'run', 'her', 'own', 'consulting', 'business', 'told', 'a', 'jury', 'in', 'new', 'york', 'on', 'wednesday', 'that', 'external', 'auditor', 'arthur', 'andersen', 'had', 'approved', 'worldcom', 's', 'accounting', 'in', 'early', '2001', 'and', '2002.', 'she', 'said', 'andersen', 'had', 'given', 'a', 'green', 'light', 'to', 'the', 'procedure', 'and', 'practice', 'used', 'by', 'worldcom', '.', 'mr', 'ebber', 's', 'lawyer', 'have', 'said', 'he', 'wa', 'unaware', 'of', 'the', 'fraud', 'arguing', 'that', 'auditor', 'did', 'not', 'alert', 'him', 'to', 'any', 'problem', '.', 'm', 'cooper', 'also', 'said', 'that', 'during', 'shareholder', 'meeting', 'mr', 'ebbers', 'often', 'passed', 'over', 'technical', 'question', 'to', 'the', 'company', 's', 'finance', 'chief', 'giving', 'only', 'brief', 'answer', 'himself', '.', 'the', 'prosecution', 's', 'star', 'witness', 'former', 'worldcom', 'financial', 'chief', 'scott', 'sullivan', 'ha', 'said', 'that', 'mr', 'ebbers', 'ordered', 'accounting', 'adjustment', 'at', 'the', 'firm', 'telling', 'him', 'to', 'hit', 'our', 'book', '.', 'however', 'm', 'cooper', 'said', 'mr', 'sullivan', 'had', 'not', 'mentioned', 'anything', 'uncomfortable', 'about', 'worldcom', 's', 'accounting', 'during', 'a', '2001', 'audit', 'committee', 'meeting', '.', 'mr', 'ebbers', 'could', 'face', 'a', 'jail', 'sentence', 'of', '85', 'year', 'if', 'convicted', 'of', 'all', 'the', 'charge', 'he', 'is', 'facing', '.', 'worldcom', 'emerged', 'from', 'bankruptcy', 'protection', 'in', '2004', 'and', 'is', 'now', 'known', 'a', 'mci', '.', 'last', 'week', 'mci', 'agreed', 'to', 'a', 'buyout', 'by', 'verizon', 'communication', 'in', 'a', 'deal', 'valued', 'at', '$', '6.75bn', '.']\n"
          ]
        }
      ]
    },
    {
      "cell_type": "code",
      "source": [
        "# Load SpaCy's pre-trained model\n",
        "nlp = spacy.load('en_core_web_sm')\n",
        "\n",
        "# Process the sample article\n",
        "doc = nlp(sample_article)\n",
        "\n",
        "# Extract named entities\n",
        "named_entities = [(ent.text, ent.label_) for ent in doc.ents]\n",
        "print(named_entities)"
      ],
      "metadata": {
        "colab": {
          "base_uri": "https://localhost:8080/"
        },
        "id": "RK3BB_g5C8VR",
        "outputId": "ee44af73-dc8a-440a-e2c6-5baa12266011"
      },
      "execution_count": 23,
      "outputs": [
        {
          "output_type": "stream",
          "name": "stdout",
          "text": [
            "[('worldcom ex-boss', 'PERSON'), ('worldcom', 'ORG'), ('bernie', 'PERSON'), ('first', 'ORDINAL'), ('cynthia cooper  worldcom s ex-head', 'PERSON'), ('us', 'GPE'), ('2002', 'DATE'), ('5.7bn', 'MONEY'), ('worldcom', 'ORG'), ('new york', 'GPE'), ('wednesday', 'DATE'), ('arthur andersen', 'PERSON'), ('worldcom', 'ORG'), ('early 2001 and 2002', 'DATE'), ('worldcom', 'ORG'), ('cooper', 'PERSON'), ('worldcom financial', 'ORG'), ('scott sullivan', 'PERSON'), ('sullivan', 'PERSON'), ('2001', 'DATE'), ('85 years', 'DATE'), ('worldcom', 'ORG'), ('2004', 'DATE'), ('mci', 'ORG'), ('last week', 'DATE'), ('mci', 'ORG'), ('6.75bn', 'MONEY')]\n"
          ]
        }
      ]
    },
    {
      "cell_type": "code",
      "source": [
        "# Tokenize the entire dataset\n",
        "tokenized_data = [word_tokenize(article) for article in dataset['Text']]\n",
        "\n",
        "# Train Word2Vec model\n",
        "word2vec_model = Word2Vec(sentences=tokenized_data, vector_size=100, window=5, min_count=1, workers=4)\n",
        "\n",
        "\n",
        "# Get a word from the vocabulary of the Word2Vec model\n",
        "sample_word = word2vec_model.wv.index_to_key[0]  # Choose index 0 or any other valid index\n",
        "\n",
        "# Get vector representation of the chosen word\n",
        "sample_word_vector = word2vec_model.wv[sample_word]\n",
        "print(sample_word_vector)\n",
        "print(sample_word)\n",
        "print(word2vec_model)"
      ],
      "metadata": {
        "colab": {
          "base_uri": "https://localhost:8080/"
        },
        "id": "RkJfftZ8DHTp",
        "outputId": "fc68e06c-be07-4f35-aac8-5757a0468071"
      },
      "execution_count": 45,
      "outputs": [
        {
          "output_type": "stream",
          "name": "stdout",
          "text": [
            "[ 2.7879721e-02  1.3422313e-03  1.6377891e+00  1.0293640e+00\n",
            " -1.0290486e+00 -1.3601092e+00  1.2974035e+00  9.9968672e-01\n",
            " -8.5291559e-01 -1.7252359e+00  5.7322627e-01 -6.5874749e-01\n",
            " -1.5534254e+00  1.3109279e-01 -7.6012686e-03 -1.0684609e-01\n",
            "  5.5359185e-01  4.6730842e-02 -4.6097383e-01 -1.0784883e+00\n",
            "  1.2382365e+00 -3.4004995e-01  1.8526311e+00 -8.9855832e-01\n",
            "  8.0788380e-01 -2.3810017e-01 -7.3202866e-01  8.5141951e-01\n",
            " -6.0484940e-01 -1.3663299e-01  1.7441951e-01  4.1195318e-01\n",
            "  2.2754297e-01 -1.4277290e+00  2.6205432e-01 -2.3459113e-01\n",
            "  3.2779139e-01 -1.0027425e+00 -2.6524103e-01 -9.7996330e-01\n",
            " -5.3939018e-02 -7.3855877e-01 -3.2385218e-01 -4.5562556e-01\n",
            "  3.3828276e-01 -9.2608529e-01 -7.6590401e-01  5.1656097e-01\n",
            "  5.9468585e-01  8.1698108e-01 -2.2878036e-01 -5.8444786e-01\n",
            " -5.9562641e-01  2.0109849e-01 -4.9469033e-01 -3.5529356e-02\n",
            " -7.3464908e-02 -3.1536564e-01 -2.6733142e-01  7.5271177e-01\n",
            "  2.9261222e-01  5.9244394e-01  3.9192730e-01 -1.2188308e-01\n",
            " -4.8659769e-01  9.6173590e-01 -7.2267249e-02  1.5975096e+00\n",
            " -4.6635282e-01  1.2832092e-01 -5.1829058e-01  1.7379866e+00\n",
            "  6.9617790e-01 -5.4129392e-02  1.5675797e+00  7.4697667e-01\n",
            "  4.9156135e-01 -2.3404866e-01 -5.3845477e-01 -1.3944783e+00\n",
            "  1.6136480e-02 -8.8061994e-01  1.6445722e-01  1.2899598e+00\n",
            " -8.1304860e-01 -1.2082011e-01  6.8087047e-01 -4.7792643e-01\n",
            " -2.0605896e-01  5.2059090e-01 -8.6493358e-02 -5.8890021e-01\n",
            "  2.4558719e-01 -3.5645044e-01  1.6963493e+00  1.1045080e+00\n",
            "  3.1815717e-01 -1.4082348e+00 -2.2831902e-02  4.1127384e-01]\n",
            "the\n",
            "Word2Vec<vocab=28178, vector_size=100, alpha=0.025>\n"
          ]
        }
      ]
    },
    {
      "cell_type": "code",
      "source": [
        "# Initialize TfidfVectorizer\n",
        "tfidf_vectorizer = TfidfVectorizer()\n",
        "\n",
        "# Fit and transform the dataset\n",
        "tfidf_matrix = tfidf_vectorizer.fit_transform(dataset['Text'])\n",
        "\n",
        "# Calculate cosine similarity between two news articles\n",
        "cosine_similarity = (tfidf_matrix * tfidf_matrix.T).toarray()\n",
        "print(tfidf_matrix)\n",
        "print(cosine_similarity)"
      ],
      "metadata": {
        "colab": {
          "base_uri": "https://localhost:8080/"
        },
        "id": "dD7CbDd3DVSu",
        "outputId": "6ceec090-1933-4408-dc39-caf0f6372afe"
      },
      "execution_count": 41,
      "outputs": [
        {
          "output_type": "stream",
          "name": "stdout",
          "text": [
            "  (0, 1009)\t0.05643509689668293\n",
            "  (0, 23572)\t0.05171683198420305\n",
            "  (0, 6472)\t0.02902507640882694\n",
            "  (0, 5342)\t0.044434208471766566\n",
            "  (0, 23661)\t0.05875637443991937\n",
            "  (0, 4150)\t0.0601801944482067\n",
            "  (0, 1652)\t0.034102087269467486\n",
            "  (0, 24104)\t0.02383356638673293\n",
            "  (0, 13075)\t0.017706106467856114\n",
            "  (0, 14251)\t0.10916318514966579\n",
            "  (0, 12865)\t0.03184197913561059\n",
            "  (0, 407)\t0.025019777226527817\n",
            "  (0, 17579)\t0.039549514785291666\n",
            "  (0, 2875)\t0.04289120555750058\n",
            "  (0, 9615)\t0.012344388705610583\n",
            "  (0, 8036)\t0.043630523793597796\n",
            "  (0, 8748)\t0.038172940645020706\n",
            "  (0, 12224)\t0.021277420879685587\n",
            "  (0, 1792)\t0.017252502375521908\n",
            "  (0, 5810)\t0.049059642984184255\n",
            "  (0, 11448)\t0.018347791308608738\n",
            "  (0, 24617)\t0.02055116391848126\n",
            "  (0, 1076)\t0.048608990336853036\n",
            "  (0, 19913)\t0.049533415911568075\n",
            "  (0, 12316)\t0.04415847017280601\n",
            "  :\t:\n",
            "  (1489, 11033)\t0.08625548429839593\n",
            "  (1489, 15792)\t0.020993536539211335\n",
            "  (1489, 16046)\t0.017799215951455238\n",
            "  (1489, 17416)\t0.03244209969602519\n",
            "  (1489, 4156)\t0.07275128184524933\n",
            "  (1489, 23499)\t0.08217323575020663\n",
            "  (1489, 17420)\t0.057758102195817854\n",
            "  (1489, 19389)\t0.022384922212533638\n",
            "  (1489, 10506)\t0.030646580533812535\n",
            "  (1489, 15777)\t0.03189506635943616\n",
            "  (1489, 15313)\t0.03465549786303456\n",
            "  (1489, 15546)\t0.03931849073930841\n",
            "  (1489, 22278)\t0.03424608962685311\n",
            "  (1489, 1998)\t0.0291486251801776\n",
            "  (1489, 15497)\t0.0430417823480323\n",
            "  (1489, 10702)\t0.011509131115391957\n",
            "  (1489, 9167)\t0.02691202781223377\n",
            "  (1489, 11619)\t0.03878671010933062\n",
            "  (1489, 22285)\t0.24047370574433408\n",
            "  (1489, 22511)\t0.08691960927507664\n",
            "  (1489, 9171)\t0.038599233268436596\n",
            "  (1489, 22294)\t0.016037927102274776\n",
            "  (1489, 2378)\t0.024793810877961175\n",
            "  (1489, 10734)\t0.012414143702070527\n",
            "  (1489, 15683)\t0.04845088020646398\n",
            "[[1.         0.07875932 0.0791499  ... 0.09308276 0.09546118 0.06290533]\n",
            " [0.07875932 1.         0.2000389  ... 0.16967046 0.16940074 0.10128641]\n",
            " [0.0791499  0.2000389  1.         ... 0.1568732  0.21010698 0.13737273]\n",
            " ...\n",
            " [0.09308276 0.16967046 0.1568732  ... 1.         0.17307143 0.09767576]\n",
            " [0.09546118 0.16940074 0.21010698 ... 0.17307143 1.         0.13288278]\n",
            " [0.06290533 0.10128641 0.13737273 ... 0.09767576 0.13288278 1.        ]]\n"
          ]
        }
      ]
    },
    {
      "cell_type": "code",
      "source": [],
      "metadata": {
        "id": "8qXV2oG9GKZr"
      },
      "execution_count": null,
      "outputs": []
    }
  ]
}